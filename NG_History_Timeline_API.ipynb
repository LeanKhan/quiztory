{
  "nbformat": 4,
  "nbformat_minor": 0,
  "metadata": {
    "colab": {
      "name": "NG History Timeline API",
      "provenance": [],
      "collapsed_sections": [],
      "include_colab_link": true
    },
    "kernelspec": {
      "display_name": "Python 3",
      "name": "python3"
    },
    "language_info": {
      "name": "python"
    }
  },
  "cells": [
    {
      "cell_type": "markdown",
      "metadata": {
        "id": "view-in-github",
        "colab_type": "text"
      },
      "source": [
        "<a href=\"https://colab.research.google.com/github/LeanKhan/quiztory/blob/main/NG_History_Timeline_API.ipynb\" target=\"_parent\"><img src=\"https://colab.research.google.com/assets/colab-badge.svg\" alt=\"Open In Colab\"/></a>"
      ]
    },
    {
      "cell_type": "markdown",
      "metadata": {
        "id": "ag9gAOGMCuSn"
      },
      "source": [
        "Algorithm:\n",
        "\n",
        "- Break down text into POS tags\n",
        "- Extract the VBD in the sentence if any\n",
        "- Get base for that word. This is the thing that \"happened\" on that Date\n",
        "- Get NER for text. Extract the date entity. \n",
        "- **Construct question**\n",
        "- Remove date and \"in\" like preposition before date.\n",
        "- Add \"When \" to beginning of question. Replace VBD to base form.\n",
        "- *profit*\n",
        "\n"
      ]
    },
    {
      "cell_type": "markdown",
      "metadata": {
        "id": "erISl7uQmscg"
      },
      "source": [
        "Install deps"
      ]
    },
    {
      "cell_type": "code",
      "metadata": {
        "id": "kX8ylcvdvC9L"
      },
      "source": [
        "import spacy\n",
        "\n",
        "# import nltk\n",
        "import re\n",
        "import requests\n",
        "\n",
        "# from nltk.tokenize import word_tokenize\n",
        "# from nltk.tag import pos_tag\n",
        "# from nltk.stem import WordNetLemmatizer\n",
        "\n",
        "# nltk.download('punkt')\n",
        "# nltk.download('averaged_perceptron_tagger')\n",
        "# nltk.download('words')\n",
        "# nltk.download('wordnet')\n",
        "# nltk.download('maxent_ne_chunker')\n",
        "\n",
        "# install wikipedia article api wrapper\n",
        "import sys\n",
        "!{sys.executable} -m pip install wikipedia\n",
        "!{sys.executable} -m pip install dateparser\n",
        "!{sys.executable} -m pip install daterangeparser\n",
        "\n",
        "# fast api\n",
        "!{sys.executable} -m pip install colabcode\n",
        "!{sys.executable} -m pip install fastapi\n",
        "!{sys.executable} -m pip install jinja2\n",
        "\n",
        "# node\n",
        "!npm install -g localtunnel\n",
        "\n",
        "# import installed deps\n",
        "import wikipedia as wp\n",
        "from dateparser import parse\n",
        "from dateparser import parse as parse_range\n",
        "\n"
      ],
      "execution_count": null,
      "outputs": []
    },
    {
      "cell_type": "markdown",
      "metadata": {
        "id": "1fHhX8k4TJoO"
      },
      "source": [
        "Setup Server"
      ]
    },
    {
      "cell_type": "markdown",
      "metadata": {
        "id": "Jc-y-bKtFLyu"
      },
      "source": [
        "Initialize text"
      ]
    },
    {
      "cell_type": "code",
      "metadata": {
        "id": "sqyYrvjOvuNk"
      },
      "source": [
        "def extract_all_events(text, extract_function):\n",
        "  all_events = []\n",
        "  questions = []\n",
        "  processed = 0\n",
        "  # Process the events\n",
        "  for processed,line in enumerate(text.splitlines()):\n",
        "    events = extract_function(line)\n",
        "    all_events = all_events + events\n",
        "    if processed % 100 == 0:\n",
        "      print('Processed: {}'.format(processed))\n",
        "\n",
        "  print(\"Extracted {} events.\".format(len(all_events)))\n",
        "  # use event[2] to forumulate the question...\n",
        "\n",
        "  # Print out the events\n",
        "  for event in sorted(all_events, key=lambda e: e[0]):\n",
        "    questions.append({\"q\": \"When did {}?\".format(event[2]), \"ans\": event[1]})\n",
        "  \n",
        "  return questions"
      ],
      "execution_count": 2,
      "outputs": []
    },
    {
      "cell_type": "markdown",
      "metadata": {
        "id": "jGAhOGqEGvmV"
      },
      "source": [
        "Get doc ready"
      ]
    },
    {
      "cell_type": "markdown",
      "metadata": {
        "id": "bl18SbcKMYC9"
      },
      "source": [
        "Get NER and get date as well as preposition"
      ]
    },
    {
      "cell_type": "code",
      "metadata": {
        "id": "41XXC21Zxurl"
      },
      "source": [
        "for ent in doc.ents:\n",
        "  print(\"{} -> {}\".format(ent.text,ent.label_))"
      ],
      "execution_count": null,
      "outputs": []
    },
    {
      "cell_type": "code",
      "metadata": {
        "id": "QjgqQPZnx0bK"
      },
      "source": [
        "spacy.displacy.render(doc, style=\"ent\",jupyter=True)"
      ],
      "execution_count": null,
      "outputs": []
    },
    {
      "cell_type": "markdown",
      "metadata": {
        "id": "WSTwAsUkN41D"
      },
      "source": [
        "Construct question"
      ]
    },
    {
      "cell_type": "code",
      "metadata": {
        "id": "3HAP06QtpNGQ"
      },
      "source": [
        "import IPython\n",
        "\n",
        "IPython.display.HTML(spacy.displacy.render(doc,style=\"dep\", page=True, options={\"compact\":True}))"
      ],
      "execution_count": null,
      "outputs": []
    },
    {
      "cell_type": "markdown",
      "metadata": {
        "id": "kgICuQANpsLL"
      },
      "source": [
        "Dependency Parsing, thank you Jesus!"
      ]
    },
    {
      "cell_type": "code",
      "metadata": {
        "id": "jojFADqdpvCL"
      },
      "source": [
        "def extract_events_regex(line):\n",
        "  matches = []\n",
        "  # capture thee digit and four digit years (1975) and ranges (1975-1976)\n",
        "  found = re.findall('In (\\d\\d\\d\\d?[/\\–]?\\d?\\d?\\d?\\d?),? ?([^\\\\.]*)', line)\n",
        "  try:\n",
        "    matches = matches + list(map(lambda f: (f[0] if len(f[0])>3 else \"0\"+f[0] ,f[0],f[1]),found))\n",
        "  except:\n",
        "   return []\n",
        "  return matches\n",
        "\n",
        "def dep_subtree(token, dep):\n",
        "  deps =[child.dep_ for child in token.children]\n",
        "  child=next(filter(lambda c: c.dep_==dep, token.children), None)\n",
        "  if child != None:\n",
        "    return \" \".join([c.text for c in child.subtree])\n",
        "  else:\n",
        "    return \"\"\n",
        "\n",
        "# to remove citations, e.g. \"[91]\" as this makes problems with spaCy\n",
        "p = re.compile(r'\\[\\d+\\]')\n",
        "\n",
        "def extract_events_spacy(line):\n",
        "  line=p.sub('', line)\n",
        "  events = []\n",
        "  doc = nlp(line)\n",
        "  for ent in filter(lambda e: e.label_=='DATE',doc.ents):\n",
        "    # print(ent.text)\n",
        "    try:\n",
        "      start, end = parse_range(ent.text)\n",
        "      # start = ent.text\n",
        "    except Exception as e:\n",
        "      # continue\n",
        "      # could not parse the dates, hence ignore it\n",
        "      try:\n",
        "        # start = parse(ent.text)\n",
        "        start = ent.text\n",
        "      except:\n",
        "        print('Could not => ', e)\n",
        "        continue\n",
        "\n",
        "    current = ent.root\n",
        "    while current.dep_ != \"ROOT\":\n",
        "      current = current.head\n",
        "    desc = \" \".join(filter(None,[\n",
        "                                 dep_subtree(current,\"nsubj\"),\n",
        "                                 dep_subtree(current,\"nsubjpass\"),\n",
        "                                 dep_subtree(current,\"auxpass\"),\n",
        "                                 dep_subtree(current,\"amod\"),\n",
        "                                 dep_subtree(current,\"det\"),\n",
        "                                 current.text, \n",
        "                                 dep_subtree(current,\"acl\"),\n",
        "                                 dep_subtree(current,\"dobj\"),\n",
        "                                 dep_subtree(current,\"attr\"),\n",
        "                                 dep_subtree(current,\"advmod\")]))\n",
        "    events = events + [(start,ent.text,desc)]\n",
        "  return events"
      ],
      "execution_count": 3,
      "outputs": []
    },
    {
      "cell_type": "markdown",
      "metadata": {
        "id": "dR7bp12KpxUb"
      },
      "source": [
        "All together now!"
      ]
    },
    {
      "cell_type": "code",
      "metadata": {
        "id": "7BKwPvjvpzQ6"
      },
      "source": [
        "# extract_all_events(summary,extract_events_spacy)\n",
        "\n",
        "# extract_events_spacy(\"The Protestant Reformation was the first successful challenge to the Catholic Church and began in 1521 - 1600 as Luther was outlawed at the Diet of Worms after his refusal to repent. \")\n"
      ],
      "execution_count": null,
      "outputs": []
    },
    {
      "cell_type": "markdown",
      "metadata": {
        "id": "cTDmIvEDlzQ1"
      },
      "source": [
        "Get templates! Thank you Jesus!"
      ]
    },
    {
      "cell_type": "code",
      "metadata": {
        "id": "IQaj5x6NUEK-"
      },
      "source": [
        "# raw_text=\"\"\"Nigeria gained her independence in 1960.\"\"\"\n",
        "# raw_text = \"\"\"Frank Roffolo was killed on December 2019\"\"\"\n",
        "# response = requests.get('https://raw.githubusercontent.com/qualicen/timeline/master/history_of_germany.txt')\n",
        "\n",
        "# summary = wp.summary(\"Colonial Nigeria\")\n",
        "# summary = response.content\n",
        "\n",
        "# # Create NER text\n",
        "# text = NER(raw_text)\n",
        "\n",
        "# lem = WordNetLemmatizer()\n"
      ],
      "execution_count": null,
      "outputs": []
    },
    {
      "cell_type": "code",
      "metadata": {
        "id": "_TPaeKgaTJIN"
      },
      "source": [
        "from fastapi import FastAPI\n",
        "from fastapi.responses import HTMLResponse\n",
        "from fastapi.middleware.cors import CORSMiddleware\n",
        "from jinja2 import Template\n",
        "\n",
        "app = FastAPI()\n",
        "\n",
        "app.add_middleware(\n",
        "    CORSMiddleware,\n",
        "    allow_origins=[\"*\"],\n",
        "    allow_credentials=True,\n",
        "    allow_methods=[\"*\"],\n",
        "    allow_headers=[\"*\"],\n",
        ")\n",
        "\n",
        "@app.on_event(\"startup\")\n",
        "def load_model():\n",
        "    global nlp\n",
        "    nlp = spacy.load(\"en_core_web_sm\")\n",
        "\n",
        "@app.get('/')\n",
        "def index():\n",
        "    return {'message': 'This is the homepage of the API '}\n",
        "\n",
        "@app.get('/home', response_class=HTMLResponse)\n",
        "def home():\n",
        "    template_string = requests.get('https://raw.githubusercontent.com/LeanKhan/congenial-lamp/main/index.html').text\n",
        "\n",
        "    template = Template(template_string)\n",
        "\n",
        "    return template.render()\n",
        "\n",
        "\n",
        "@app.get('/questions', response_class=HTMLResponse)\n",
        "def questions(article: str):\n",
        "    template_string = requests.get('https://raw.githubusercontent.com/LeanKhan/congenial-lamp/main/questions.html').text\n",
        "\n",
        "    template = Template(template_string)\n",
        "\n",
        "    global wp_page\n",
        "\n",
        "    try:\n",
        "      wp_page = wp.page(article)\n",
        "    except:\n",
        "      # raise error\n",
        "      return {\"error\": True}\n",
        "    \n",
        "    # doc = nlp(summary)\n",
        "\n",
        "    qs = extract_all_events(wp_page.summary,extract_events_spacy)\n",
        "\n",
        "    return template.render(page=wp_page, questions=qs)\n",
        "\n",
        "\n",
        "@app.get('/api/questions')\n",
        "def get_questions(article: str):\n",
        "\n",
        "    global wp_page\n",
        "\n",
        "    try:\n",
        "      wp_page = wp.page(article)\n",
        "    except:\n",
        "      # raise error\n",
        "      return {\"error\": True}\n",
        "    \n",
        "    # doc = nlp(summary)\n",
        "\n",
        "    qs = extract_all_events(wp_page.summary,extract_events_spacy)\n",
        "\n",
        "    return {'success': True, 'questions': qs, 'links': wp_page.links, 'images': wp_page.images, 'title': wp_page.title, 'url': wp_page.url}\n",
        "\n",
        "\n"
      ],
      "execution_count": 4,
      "outputs": []
    },
    {
      "cell_type": "code",
      "metadata": {
        "id": "lyzKBcKaH7rk"
      },
      "source": [
        "!npm i -g fastify\n",
        "!npm i -g fastify-cli"
      ],
      "execution_count": null,
      "outputs": []
    },
    {
      "cell_type": "markdown",
      "metadata": {
        "id": "xReRZOxdYCgQ"
      },
      "source": [
        "Run Server! Thank you Jesus!"
      ]
    },
    {
      "cell_type": "code",
      "metadata": {
        "colab": {
          "base_uri": "https://localhost:8080/"
        },
        "id": "Djxwzaa1UDCT",
        "outputId": "1eaa2d5a-c60d-49bd-ddc9-115e8fe62e71"
      },
      "source": [
        "code = \"\"\"\n",
        "module.paths.push(\"/tools/node/lib/node_modules\");\n",
        "const localtunnel = require('localtunnel');\n",
        "\n",
        "(async () => {\n",
        "  const tunnel = await localtunnel({ port: 5000 });\n",
        "\n",
        "  // the assigned public url for your tunnel\n",
        "  // i.e. https://abcdefgjhij.localtunnel.me\n",
        "  tunnel.url;\n",
        "  console.log('Public URL at => ', tunnel.url);\n",
        "\n",
        "  tunnel.on('close', () => {\n",
        "    // tunnels are closed\n",
        "    console.log('Closeeeed tunnel');\n",
        "  });\n",
        "})();\n",
        "\"\"\"\n",
        "\n",
        "fast_code = \"\"\"\n",
        "module.paths.push(\"/tools/node/lib/node_modules\");\n",
        "\n",
        "// CommonJs\n",
        "const fastify = require('fastify')({\n",
        "  logger: true\n",
        "})\n",
        "\n",
        "// Declare a route\n",
        "fastify.get('/', function (request, reply) {\n",
        "  reply.send({ hello: 'world' })\n",
        "})\n",
        "\n",
        "// Run the server!\n",
        "fastify.listen(5000, function (err, address) {\n",
        "  if (err) {\n",
        "    fastify.log.error(err)\n",
        "    process.exit(1)\n",
        "  }\n",
        "  // Server is now listening on ${address}\n",
        "})\n",
        "\"\"\"\n",
        "\n",
        "# with open(\"tunnel.js\", \"w\") as js:\n",
        "#   js.write(code)\n",
        "\n",
        "with open(\"fast.js\", \"w\") as js:\n",
        "  js.write(fast_code)\n",
        "\n",
        "\n",
        "api_code = \"\"\"\n",
        "# from fastapi import FastAPI\n",
        "# import uvicorn\n",
        "\n",
        "# app = FastAPI()\n",
        "\n",
        "print(dir())\n",
        "\n",
        "\n",
        "# @app.get(\"/\")\n",
        "# async def root():\n",
        "#     return {\"message\": \"Hello World\"}\n",
        "\n",
        "# uvicorn.run(app, host=\"127.0.0.1\", port=5000, workers=1)\n",
        "\"\"\"\n",
        "\n",
        "with open(\"api.py\", \"w\") as file:\n",
        "  file.write(api_code)\n",
        "\n",
        "\n",
        "# !nohup node ./fast.js & lt --port 5000 --subdomain quiztory-1234 & tail -f nohup.out\n",
        "!python ./api.py\n",
        "# !nohup python ./api.py & lt --port 5000 --subdomain quiztory-1234 & tail -f nohup.out\n",
        "\n",
        "# nest_asyncio.apply()\n",
        "\n",
        "# uvicorn.run(app, host=\"127.0.0.1\", port=5000, workers=1)\n",
        "\n",
        "# !npm -g ls --depth=0 --parseable"
      ],
      "execution_count": null,
      "outputs": [
        {
          "name": "stdout",
          "output_type": "stream",
          "text": [
            "['__annotations__', '__builtins__', '__cached__', '__doc__', '__file__', '__loader__', '__name__', '__package__', '__spec__']\n"
          ]
        }
      ]
    },
    {
      "cell_type": "code",
      "metadata": {
        "colab": {
          "base_uri": "https://localhost:8080/"
        },
        "id": "PrOnTQgY9MUq",
        "outputId": "b9b1a785-d077-4363-8620-f0261b534c18"
      },
      "source": [
        "# TESTT\n",
        "# !wget https://raw.githubusercontent.com/abhishekq61/tunnel-client/master/linux/staqlab-tunnel.zip\n",
        "\n",
        "# !unzip ./staqlab-tunnel.zip\n",
        "\n",
        "import subprocess\n",
        "import nest_asyncio\n",
        "import uvicorn\n",
        "import os\n",
        "\n",
        "# subprocess.run([\"!node\", \"port=10000\", \"hostname=fish1234\"], stdout=subprocess.PIPE, shell=True)\n",
        "\n",
        "# !sudo lsof -i -P -n | grep LISTEN\n",
        "\n",
        "# !sudo lsof -t -i tcp:5000 | xargs kill -9\n",
        "# !nohup lt --port 3000 --subdomain quiztory-1234 & tail -f nohup.out\n",
        "# !nohup lt --port 3000 --subdomain quiztory-1234 & uvicorn .:app --reload & tail -f nohup.out\n",
        "\n",
        "# os.system(\"!nohup lt --port 3000 --subdomain quiztory-1234 & tail -f nohup.out\")\n",
        "\n",
        "# nest_asyncio.apply()\n",
        "\n",
        "# uvicorn.run(app, host=\"127.0.0.1\", port=3000, workers=1)\n",
        "\n",
        "\n",
        "# !uvicorn main:app --reload\n",
        "\n",
        "# uvicorn.run(app, host=\"127.0.0.1\", port=5000, workers=1)\n",
        "\n",
        "# !./staqlab-tunnel port=10000\n"
      ],
      "execution_count": null,
      "outputs": [
        {
          "data": {
            "text/plain": [
              "CompletedProcess(args=['!node', 'port=10000', 'hostname=fish1234'], returncode=127, stdout=b'')"
            ]
          },
          "execution_count": 31,
          "metadata": {},
          "output_type": "execute_result"
        }
      ]
    },
    {
      "cell_type": "code",
      "metadata": {
        "colab": {
          "base_uri": "https://localhost:8080/"
        },
        "id": "tkflwj9yYCPN",
        "outputId": "6a8d4e6f-6b48-48e5-8c20-da63784d204b"
      },
      "source": [
        "from colabcode import ColabCode\n",
        "\n",
        "server = ColabCode(port=10000, code=False)\n",
        "\n",
        "server.run_app(app=app)\n",
        "\n"
      ],
      "execution_count": null,
      "outputs": [
        {
          "metadata": {
            "tags": null
          },
          "name": "stdout",
          "output_type": "stream",
          "text": [
            ""
          ]
        },
        {
          "metadata": {
            "tags": null
          },
          "name": "stderr",
          "output_type": "stream",
          "text": [
            "INFO:     Started server process [68]\n",
            "INFO:     Waiting for application startup.\n"
          ]
        },
        {
          "metadata": {
            "tags": null
          },
          "name": "stdout",
          "output_type": "stream",
          "text": [
            "Public URL: NgrokTunnel: \"https://53ab-35-201-209-198.ngrok.io\" -> \"http://localhost:10000\"\n"
          ]
        },
        {
          "metadata": {
            "tags": null
          },
          "name": "stderr",
          "output_type": "stream",
          "text": [
            "INFO:     Application startup complete.\n",
            "INFO:     Uvicorn running on http://127.0.0.1:10000 (Press CTRL+C to quit)\n"
          ]
        },
        {
          "metadata": {
            "tags": null
          },
          "name": "stdout",
          "output_type": "stream",
          "text": [
            "INFO:     41.223.139.40:0 - \"GET /home HTTP/1.1\" 200 OK\n",
            "INFO:     41.223.139.40:0 - \"GET /style.css HTTP/1.1\" 404 Not Found\n",
            "INFO:     41.223.139.40:0 - \"GET /script.js HTTP/1.1\" 404 Not Found\n",
            "INFO:     41.223.139.40:0 - \"GET /style.css HTTP/1.1\" 404 Not Found\n",
            "INFO:     41.223.139.40:0 - \"GET /script.js HTTP/1.1\" 404 Not Found\n",
            "Processed: 0\n",
            "Extracted 21 events.\n",
            "INFO:     41.223.139.40:0 - \"GET /questions?article=History+of+Nigeria HTTP/1.1\" 200 OK\n",
            "INFO:     41.223.139.40:0 - \"GET /style.css HTTP/1.1\" 404 Not Found\n",
            "INFO:     41.223.139.40:0 - \"GET /script.js HTTP/1.1\" 404 Not Found\n",
            "Processed: 0\n",
            "Extracted 4 events.\n",
            "INFO:     41.223.139.40:0 - \"GET /questions?article=Nok+Culture HTTP/1.1\" 200 OK\n",
            "INFO:     41.223.139.40:0 - \"GET /style.css HTTP/1.1\" 404 Not Found\n",
            "INFO:     41.223.139.40:0 - \"GET /script.js HTTP/1.1\" 404 Not Found\n",
            "Processed: 0\n",
            "Extracted 8 events.\n",
            "INFO:     41.223.139.40:0 - \"GET /questions?article=Nigerian+Civil+War HTTP/1.1\" 200 OK\n",
            "INFO:     41.223.139.40:0 - \"GET /style.css HTTP/1.1\" 404 Not Found\n",
            "INFO:     41.223.139.40:0 - \"GET /script.js HTTP/1.1\" 404 Not Found\n",
            "Processed: 0\n",
            "Extracted 8 events.\n",
            "INFO:     41.223.139.40:0 - \"GET /api/questions?article=Nigerian+Civil+War HTTP/1.1\" 200 OK\n",
            "Processed: 0\n",
            "Extracted 0 events.\n",
            "INFO:     41.223.139.40:0 - \"GET /questions?article=British+Nigeria HTTP/1.1\" 200 OK\n",
            "INFO:     41.223.139.40:0 - \"GET /style.css HTTP/1.1\" 404 Not Found\n",
            "INFO:     41.223.139.40:0 - \"GET /script.js HTTP/1.1\" 404 Not Found\n",
            "Processed: 0\n",
            "Extracted 0 events.\n",
            "INFO:     41.223.139.40:0 - \"GET /questions?article=British+Nigeria HTTP/1.1\" 200 OK\n",
            "INFO:     41.223.139.40:0 - \"GET /style.css HTTP/1.1\" 404 Not Found\n",
            "INFO:     41.223.139.40:0 - \"GET /script.js HTTP/1.1\" 404 Not Found\n",
            "Processed: 0\n",
            "Extracted 0 events.\n",
            "INFO:     41.223.139.40:0 - \"GET /questions?article=British+Nigeria HTTP/1.1\" 200 OK\n",
            "INFO:     41.223.139.40:0 - \"GET /style.css HTTP/1.1\" 404 Not Found\n",
            "INFO:     41.223.139.40:0 - \"GET /script.js HTTP/1.1\" 404 Not Found\n",
            "Processed: 0\n",
            "Extracted 0 events.\n",
            "INFO:     41.223.139.40:0 - \"GET /api/questions?article=British+Nigeria HTTP/1.1\" 200 OK\n",
            "Processed: 0\n",
            "Extracted 6 events.\n",
            "INFO:     41.223.139.40:0 - \"GET /questions?article=Sokoto+Caliphate HTTP/1.1\" 200 OK\n",
            "INFO:     41.223.139.40:0 - \"GET /style.css HTTP/1.1\" 404 Not Found\n",
            "INFO:     41.223.139.40:0 - \"GET /script.js HTTP/1.1\" 404 Not Found\n"
          ]
        }
      ]
    }
  ]
}