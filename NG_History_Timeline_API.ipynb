{
  "cells": [
    {
      "cell_type": "markdown",
      "metadata": {
        "id": "view-in-github",
        "colab_type": "text"
      },
      "source": [
        "<a href=\"https://colab.research.google.com/github/LeanKhan/quiztory/blob/main/NG_History_Timeline_API.ipynb\" target=\"_parent\"><img src=\"https://colab.research.google.com/assets/colab-badge.svg\" alt=\"Open In Colab\"/></a>"
      ]
    },
    {
      "cell_type": "markdown",
      "metadata": {
        "id": "ag9gAOGMCuSn"
      },
      "source": [
        "Algorithm:\n",
        "\n",
        "- Break down text into Parts-Of-Speech tags\n",
        "- Extract the VBD (past tense verbs _happened_) in the sentence if any\n",
        "- Get base for that word _happen_. This is the thing that \"happened\" on that Date\n",
        "- Display the Named Entities using NER and extract the Date entity. \n",
        "- **Construct question**\n",
        "- Remove date and prepositions like \"in, on\" before date.\n",
        "- Add \"When \" to beginning of question. Replace VBD with base form.\n",
        "- *profit* ─=≡Σ((( つ◕ل͜◕)つ"
      ]
    },
    {
      "cell_type": "markdown",
      "metadata": {
        "id": "erISl7uQmscg"
      },
      "source": [
        "Install deps"
      ]
    },
    {
      "cell_type": "code",
      "execution_count": 1,
      "metadata": {
        "id": "kX8ylcvdvC9L",
        "colab": {
          "base_uri": "https://localhost:8080/"
        },
        "outputId": "5a23696b-2984-4a31-f798-cbf36fd74ee5"
      },
      "outputs": [
        {
          "output_type": "stream",
          "name": "stdout",
          "text": [
            "Requirement already satisfied: wikipedia in /usr/local/lib/python3.7/dist-packages (1.4.0)\n",
            "Requirement already satisfied: beautifulsoup4 in /usr/local/lib/python3.7/dist-packages (from wikipedia) (4.6.3)\n",
            "Requirement already satisfied: requests<3.0.0,>=2.0.0 in /usr/local/lib/python3.7/dist-packages (from wikipedia) (2.23.0)\n",
            "Requirement already satisfied: urllib3!=1.25.0,!=1.25.1,<1.26,>=1.21.1 in /usr/local/lib/python3.7/dist-packages (from requests<3.0.0,>=2.0.0->wikipedia) (1.24.3)\n",
            "Requirement already satisfied: idna<3,>=2.5 in /usr/local/lib/python3.7/dist-packages (from requests<3.0.0,>=2.0.0->wikipedia) (2.10)\n",
            "Requirement already satisfied: certifi>=2017.4.17 in /usr/local/lib/python3.7/dist-packages (from requests<3.0.0,>=2.0.0->wikipedia) (2021.10.8)\n",
            "Requirement already satisfied: chardet<4,>=3.0.2 in /usr/local/lib/python3.7/dist-packages (from requests<3.0.0,>=2.0.0->wikipedia) (3.0.4)\n",
            "Requirement already satisfied: dateparser in /usr/local/lib/python3.7/dist-packages (1.1.0)\n",
            "Requirement already satisfied: tzlocal in /usr/local/lib/python3.7/dist-packages (from dateparser) (1.5.1)\n",
            "Requirement already satisfied: pytz in /usr/local/lib/python3.7/dist-packages (from dateparser) (2018.9)\n",
            "Requirement already satisfied: python-dateutil in /usr/local/lib/python3.7/dist-packages (from dateparser) (2.8.2)\n",
            "Requirement already satisfied: regex!=2019.02.19,!=2021.8.27 in /usr/local/lib/python3.7/dist-packages (from dateparser) (2019.12.20)\n",
            "Requirement already satisfied: six>=1.5 in /usr/local/lib/python3.7/dist-packages (from python-dateutil->dateparser) (1.15.0)\n",
            "Requirement already satisfied: daterangeparser in /usr/local/lib/python3.7/dist-packages (1.3.2)\n",
            "Requirement already satisfied: pyparsing in /usr/local/lib/python3.7/dist-packages (from daterangeparser) (3.0.7)\n",
            "Requirement already satisfied: colabcode in /usr/local/lib/python3.7/dist-packages (0.3.0)\n",
            "Requirement already satisfied: uvicorn==0.13.1 in /usr/local/lib/python3.7/dist-packages (from colabcode) (0.13.1)\n",
            "Requirement already satisfied: nest-asyncio==1.4.3 in /usr/local/lib/python3.7/dist-packages (from colabcode) (1.4.3)\n",
            "Requirement already satisfied: pyngrok>=5.0.0 in /usr/local/lib/python3.7/dist-packages (from colabcode) (5.1.0)\n",
            "Requirement already satisfied: jupyterlab==3.0.7 in /usr/local/lib/python3.7/dist-packages (from colabcode) (3.0.7)\n",
            "Requirement already satisfied: jupyterlab-server~=2.0 in /usr/local/lib/python3.7/dist-packages (from jupyterlab==3.0.7->colabcode) (2.10.3)\n",
            "Requirement already satisfied: tornado>=6.1.0 in /usr/local/lib/python3.7/dist-packages (from jupyterlab==3.0.7->colabcode) (6.1)\n",
            "Requirement already satisfied: ipython in /usr/local/lib/python3.7/dist-packages (from jupyterlab==3.0.7->colabcode) (5.5.0)\n",
            "Requirement already satisfied: nbclassic~=0.2 in /usr/local/lib/python3.7/dist-packages (from jupyterlab==3.0.7->colabcode) (0.3.5)\n",
            "Requirement already satisfied: jinja2>=2.10 in /usr/local/lib/python3.7/dist-packages (from jupyterlab==3.0.7->colabcode) (2.11.3)\n",
            "Requirement already satisfied: packaging in /usr/local/lib/python3.7/dist-packages (from jupyterlab==3.0.7->colabcode) (21.3)\n",
            "Requirement already satisfied: jupyter-server~=1.2 in /usr/local/lib/python3.7/dist-packages (from jupyterlab==3.0.7->colabcode) (1.13.5)\n",
            "Requirement already satisfied: jupyter-core in /usr/local/lib/python3.7/dist-packages (from jupyterlab==3.0.7->colabcode) (4.9.2)\n",
            "Requirement already satisfied: click==7.* in /usr/local/lib/python3.7/dist-packages (from uvicorn==0.13.1->colabcode) (7.1.2)\n",
            "Requirement already satisfied: h11>=0.8 in /usr/local/lib/python3.7/dist-packages (from uvicorn==0.13.1->colabcode) (0.13.0)\n",
            "Requirement already satisfied: typing-extensions in /usr/local/lib/python3.7/dist-packages (from uvicorn==0.13.1->colabcode) (3.10.0.2)\n",
            "Requirement already satisfied: MarkupSafe>=0.23 in /usr/local/lib/python3.7/dist-packages (from jinja2>=2.10->jupyterlab==3.0.7->colabcode) (2.0.1)\n",
            "Requirement already satisfied: ipython-genutils in /usr/local/lib/python3.7/dist-packages (from jupyter-server~=1.2->jupyterlab==3.0.7->colabcode) (0.2.0)\n",
            "Requirement already satisfied: terminado>=0.8.3 in /usr/local/lib/python3.7/dist-packages (from jupyter-server~=1.2->jupyterlab==3.0.7->colabcode) (0.13.1)\n",
            "Requirement already satisfied: prometheus-client in /usr/local/lib/python3.7/dist-packages (from jupyter-server~=1.2->jupyterlab==3.0.7->colabcode) (0.13.1)\n",
            "Requirement already satisfied: traitlets>=5 in /usr/local/lib/python3.7/dist-packages (from jupyter-server~=1.2->jupyterlab==3.0.7->colabcode) (5.1.1)\n",
            "Requirement already satisfied: jupyter-client>=6.1.1 in /usr/local/lib/python3.7/dist-packages (from jupyter-server~=1.2->jupyterlab==3.0.7->colabcode) (6.1.12)\n",
            "Requirement already satisfied: argon2-cffi in /usr/local/lib/python3.7/dist-packages (from jupyter-server~=1.2->jupyterlab==3.0.7->colabcode) (21.3.0)\n",
            "Requirement already satisfied: nbconvert in /usr/local/lib/python3.7/dist-packages (from jupyter-server~=1.2->jupyterlab==3.0.7->colabcode) (5.6.1)\n",
            "Requirement already satisfied: Send2Trash in /usr/local/lib/python3.7/dist-packages (from jupyter-server~=1.2->jupyterlab==3.0.7->colabcode) (1.8.0)\n",
            "Requirement already satisfied: pyzmq>=17 in /usr/local/lib/python3.7/dist-packages (from jupyter-server~=1.2->jupyterlab==3.0.7->colabcode) (22.3.0)\n",
            "Requirement already satisfied: nbformat in /usr/local/lib/python3.7/dist-packages (from jupyter-server~=1.2->jupyterlab==3.0.7->colabcode) (5.1.3)\n",
            "Requirement already satisfied: anyio<4,>=3.1.0 in /usr/local/lib/python3.7/dist-packages (from jupyter-server~=1.2->jupyterlab==3.0.7->colabcode) (3.5.0)\n",
            "Requirement already satisfied: websocket-client in /usr/local/lib/python3.7/dist-packages (from jupyter-server~=1.2->jupyterlab==3.0.7->colabcode) (1.2.3)\n",
            "Requirement already satisfied: sniffio>=1.1 in /usr/local/lib/python3.7/dist-packages (from anyio<4,>=3.1.0->jupyter-server~=1.2->jupyterlab==3.0.7->colabcode) (1.2.0)\n",
            "Requirement already satisfied: idna>=2.8 in /usr/local/lib/python3.7/dist-packages (from anyio<4,>=3.1.0->jupyter-server~=1.2->jupyterlab==3.0.7->colabcode) (2.10)\n",
            "Requirement already satisfied: python-dateutil>=2.1 in /usr/local/lib/python3.7/dist-packages (from jupyter-client>=6.1.1->jupyter-server~=1.2->jupyterlab==3.0.7->colabcode) (2.8.2)\n",
            "Requirement already satisfied: babel in /usr/local/lib/python3.7/dist-packages (from jupyterlab-server~=2.0->jupyterlab==3.0.7->colabcode) (2.9.1)\n",
            "Requirement already satisfied: requests in /usr/local/lib/python3.7/dist-packages (from jupyterlab-server~=2.0->jupyterlab==3.0.7->colabcode) (2.23.0)\n",
            "Requirement already satisfied: json5 in /usr/local/lib/python3.7/dist-packages (from jupyterlab-server~=2.0->jupyterlab==3.0.7->colabcode) (0.9.6)\n",
            "Requirement already satisfied: entrypoints>=0.2.2 in /usr/local/lib/python3.7/dist-packages (from jupyterlab-server~=2.0->jupyterlab==3.0.7->colabcode) (0.4)\n",
            "Requirement already satisfied: jsonschema>=3.0.1 in /usr/local/lib/python3.7/dist-packages (from jupyterlab-server~=2.0->jupyterlab==3.0.7->colabcode) (4.3.3)\n",
            "Requirement already satisfied: importlib-metadata in /usr/local/lib/python3.7/dist-packages (from jsonschema>=3.0.1->jupyterlab-server~=2.0->jupyterlab==3.0.7->colabcode) (4.11.1)\n",
            "Requirement already satisfied: importlib-resources>=1.4.0 in /usr/local/lib/python3.7/dist-packages (from jsonschema>=3.0.1->jupyterlab-server~=2.0->jupyterlab==3.0.7->colabcode) (5.4.0)\n",
            "Requirement already satisfied: pyrsistent!=0.17.0,!=0.17.1,!=0.17.2,>=0.14.0 in /usr/local/lib/python3.7/dist-packages (from jsonschema>=3.0.1->jupyterlab-server~=2.0->jupyterlab==3.0.7->colabcode) (0.18.1)\n",
            "Requirement already satisfied: attrs>=17.4.0 in /usr/local/lib/python3.7/dist-packages (from jsonschema>=3.0.1->jupyterlab-server~=2.0->jupyterlab==3.0.7->colabcode) (21.4.0)\n",
            "Requirement already satisfied: zipp>=3.1.0 in /usr/local/lib/python3.7/dist-packages (from importlib-resources>=1.4.0->jsonschema>=3.0.1->jupyterlab-server~=2.0->jupyterlab==3.0.7->colabcode) (3.7.0)\n",
            "Requirement already satisfied: notebook<7 in /usr/local/lib/python3.7/dist-packages (from nbclassic~=0.2->jupyterlab==3.0.7->colabcode) (5.3.1)\n",
            "Requirement already satisfied: ipykernel in /usr/local/lib/python3.7/dist-packages (from notebook<7->nbclassic~=0.2->jupyterlab==3.0.7->colabcode) (4.10.1)\n",
            "Requirement already satisfied: PyYAML in /usr/local/lib/python3.7/dist-packages (from pyngrok>=5.0.0->colabcode) (3.13)\n",
            "Requirement already satisfied: six>=1.5 in /usr/local/lib/python3.7/dist-packages (from python-dateutil>=2.1->jupyter-client>=6.1.1->jupyter-server~=1.2->jupyterlab==3.0.7->colabcode) (1.15.0)\n",
            "Requirement already satisfied: ptyprocess in /usr/local/lib/python3.7/dist-packages (from terminado>=0.8.3->jupyter-server~=1.2->jupyterlab==3.0.7->colabcode) (0.7.0)\n",
            "Requirement already satisfied: argon2-cffi-bindings in /usr/local/lib/python3.7/dist-packages (from argon2-cffi->jupyter-server~=1.2->jupyterlab==3.0.7->colabcode) (21.2.0)\n",
            "Requirement already satisfied: cffi>=1.0.1 in /usr/local/lib/python3.7/dist-packages (from argon2-cffi-bindings->argon2-cffi->jupyter-server~=1.2->jupyterlab==3.0.7->colabcode) (1.15.0)\n",
            "Requirement already satisfied: pycparser in /usr/local/lib/python3.7/dist-packages (from cffi>=1.0.1->argon2-cffi-bindings->argon2-cffi->jupyter-server~=1.2->jupyterlab==3.0.7->colabcode) (2.21)\n",
            "Requirement already satisfied: pytz>=2015.7 in /usr/local/lib/python3.7/dist-packages (from babel->jupyterlab-server~=2.0->jupyterlab==3.0.7->colabcode) (2018.9)\n",
            "Requirement already satisfied: pygments in /usr/local/lib/python3.7/dist-packages (from ipython->jupyterlab==3.0.7->colabcode) (2.6.1)\n",
            "Requirement already satisfied: setuptools>=18.5 in /usr/local/lib/python3.7/dist-packages (from ipython->jupyterlab==3.0.7->colabcode) (57.4.0)\n",
            "Requirement already satisfied: pexpect in /usr/local/lib/python3.7/dist-packages (from ipython->jupyterlab==3.0.7->colabcode) (4.8.0)\n",
            "Requirement already satisfied: simplegeneric>0.8 in /usr/local/lib/python3.7/dist-packages (from ipython->jupyterlab==3.0.7->colabcode) (0.8.1)\n",
            "Requirement already satisfied: pickleshare in /usr/local/lib/python3.7/dist-packages (from ipython->jupyterlab==3.0.7->colabcode) (0.7.5)\n",
            "Requirement already satisfied: prompt-toolkit<2.0.0,>=1.0.4 in /usr/local/lib/python3.7/dist-packages (from ipython->jupyterlab==3.0.7->colabcode) (1.0.18)\n",
            "Requirement already satisfied: decorator in /usr/local/lib/python3.7/dist-packages (from ipython->jupyterlab==3.0.7->colabcode) (4.4.2)\n",
            "Requirement already satisfied: wcwidth in /usr/local/lib/python3.7/dist-packages (from prompt-toolkit<2.0.0,>=1.0.4->ipython->jupyterlab==3.0.7->colabcode) (0.2.5)\n",
            "Requirement already satisfied: pandocfilters>=1.4.1 in /usr/local/lib/python3.7/dist-packages (from nbconvert->jupyter-server~=1.2->jupyterlab==3.0.7->colabcode) (1.5.0)\n",
            "Requirement already satisfied: testpath in /usr/local/lib/python3.7/dist-packages (from nbconvert->jupyter-server~=1.2->jupyterlab==3.0.7->colabcode) (0.5.0)\n",
            "Requirement already satisfied: defusedxml in /usr/local/lib/python3.7/dist-packages (from nbconvert->jupyter-server~=1.2->jupyterlab==3.0.7->colabcode) (0.7.1)\n",
            "Requirement already satisfied: mistune<2,>=0.8.1 in /usr/local/lib/python3.7/dist-packages (from nbconvert->jupyter-server~=1.2->jupyterlab==3.0.7->colabcode) (0.8.4)\n",
            "Requirement already satisfied: bleach in /usr/local/lib/python3.7/dist-packages (from nbconvert->jupyter-server~=1.2->jupyterlab==3.0.7->colabcode) (4.1.0)\n",
            "Requirement already satisfied: webencodings in /usr/local/lib/python3.7/dist-packages (from bleach->nbconvert->jupyter-server~=1.2->jupyterlab==3.0.7->colabcode) (0.5.1)\n",
            "Requirement already satisfied: pyparsing!=3.0.5,>=2.0.2 in /usr/local/lib/python3.7/dist-packages (from packaging->jupyterlab==3.0.7->colabcode) (3.0.7)\n",
            "Requirement already satisfied: chardet<4,>=3.0.2 in /usr/local/lib/python3.7/dist-packages (from requests->jupyterlab-server~=2.0->jupyterlab==3.0.7->colabcode) (3.0.4)\n",
            "Requirement already satisfied: urllib3!=1.25.0,!=1.25.1,<1.26,>=1.21.1 in /usr/local/lib/python3.7/dist-packages (from requests->jupyterlab-server~=2.0->jupyterlab==3.0.7->colabcode) (1.24.3)\n",
            "Requirement already satisfied: certifi>=2017.4.17 in /usr/local/lib/python3.7/dist-packages (from requests->jupyterlab-server~=2.0->jupyterlab==3.0.7->colabcode) (2021.10.8)\n",
            "Requirement already satisfied: fastapi in /usr/local/lib/python3.7/dist-packages (0.74.1)\n",
            "Requirement already satisfied: starlette==0.17.1 in /usr/local/lib/python3.7/dist-packages (from fastapi) (0.17.1)\n",
            "Requirement already satisfied: pydantic!=1.7,!=1.7.1,!=1.7.2,!=1.7.3,!=1.8,!=1.8.1,<2.0.0,>=1.6.2 in /usr/local/lib/python3.7/dist-packages (from fastapi) (1.9.0)\n",
            "Requirement already satisfied: typing-extensions in /usr/local/lib/python3.7/dist-packages (from starlette==0.17.1->fastapi) (3.10.0.2)\n",
            "Requirement already satisfied: anyio<4,>=3.0.0 in /usr/local/lib/python3.7/dist-packages (from starlette==0.17.1->fastapi) (3.5.0)\n",
            "Requirement already satisfied: sniffio>=1.1 in /usr/local/lib/python3.7/dist-packages (from anyio<4,>=3.0.0->starlette==0.17.1->fastapi) (1.2.0)\n",
            "Requirement already satisfied: idna>=2.8 in /usr/local/lib/python3.7/dist-packages (from anyio<4,>=3.0.0->starlette==0.17.1->fastapi) (2.10)\n",
            "Requirement already satisfied: jinja2 in /usr/local/lib/python3.7/dist-packages (2.11.3)\n",
            "Requirement already satisfied: MarkupSafe>=0.23 in /usr/local/lib/python3.7/dist-packages (from jinja2) (2.0.1)\n",
            "\u001b[K\u001b[?25h/tools/node/bin/lt -> /tools/node/lib/node_modules/localtunnel/bin/lt.js\n",
            "+ localtunnel@2.0.2\n",
            "updated 1 package in 1.276s\n",
            "\n",
            "\u001b[33m\u001b[39m\n",
            "\u001b[33m   ╭───────────────────────────────────────────────────────────────╮\u001b[39m\n",
            "   \u001b[33m│\u001b[39m                                                               \u001b[33m│\u001b[39m\n",
            "   \u001b[33m│\u001b[39m      New \u001b[31mmajor\u001b[39m version of npm available! \u001b[31m6.14.8\u001b[39m → \u001b[32m8.5.1\u001b[39m       \u001b[33m│\u001b[39m\n",
            "   \u001b[33m│\u001b[39m   \u001b[33mChangelog:\u001b[39m \u001b[36mhttps://github.com/npm/cli/releases/tag/v8.5.1\u001b[39m   \u001b[33m│\u001b[39m\n",
            "   \u001b[33m│\u001b[39m               Run \u001b[32mnpm install -g npm\u001b[39m to update!               \u001b[33m│\u001b[39m\n",
            "   \u001b[33m│\u001b[39m                                                               \u001b[33m│\u001b[39m\n",
            "\u001b[33m   ╰───────────────────────────────────────────────────────────────╯\u001b[39m\n",
            "\u001b[33m\u001b[39m\n"
          ]
        }
      ],
      "source": [
        "import spacy\n",
        "\n",
        "# import nltk\n",
        "import re\n",
        "import requests\n",
        "\n",
        "# from nltk.tokenize import word_tokenize\n",
        "# from nltk.tag import pos_tag\n",
        "# from nltk.stem import WordNetLemmatizer\n",
        "\n",
        "# nltk.download('punkt')\n",
        "# nltk.download('averaged_perceptron_tagger')\n",
        "# nltk.download('words')\n",
        "# nltk.download('wordnet')\n",
        "# nltk.download('maxent_ne_chunker')\n",
        "\n",
        "# install wikipedia article api wrapper\n",
        "import sys\n",
        "!{sys.executable} -m pip install wikipedia\n",
        "!{sys.executable} -m pip install dateparser\n",
        "!{sys.executable} -m pip install daterangeparser\n",
        "\n",
        "# fast api\n",
        "!{sys.executable} -m pip install colabcode\n",
        "!{sys.executable} -m pip install fastapi\n",
        "!{sys.executable} -m pip install jinja2\n",
        "\n",
        "# node\n",
        "!npm install -g localtunnel\n",
        "\n",
        "# import installed deps\n",
        "import wikipedia as wp\n",
        "from dateparser import parse\n",
        "from dateparser import parse as parse_range\n",
        "\n"
      ]
    },
    {
      "cell_type": "markdown",
      "metadata": {
        "id": "1fHhX8k4TJoO"
      },
      "source": [
        "Setup Server"
      ]
    },
    {
      "cell_type": "markdown",
      "metadata": {
        "id": "Jc-y-bKtFLyu"
      },
      "source": [
        "Initialize text"
      ]
    },
    {
      "cell_type": "code",
      "execution_count": 2,
      "metadata": {
        "id": "sqyYrvjOvuNk"
      },
      "outputs": [],
      "source": [
        "def extract_all_events(text, extract_function):\n",
        "  all_events = []\n",
        "  questions = []\n",
        "  processed = 0\n",
        "  # Process the events\n",
        "  for processed,line in enumerate(text.splitlines()):\n",
        "    events = extract_function(line)\n",
        "    all_events = all_events + events\n",
        "    if processed % 100 == 0:\n",
        "      print('Processed: {}'.format(processed))\n",
        "\n",
        "  print(\"Extracted {} events.\".format(len(all_events)))\n",
        "  # use event[2] to forumulate the question...\n",
        "\n",
        "  # Print out the events\n",
        "  for event in sorted(all_events, key=lambda e: e[0]):\n",
        "    questions.append({\"q\": \"When did {}?\".format(event[2]), \"ans\": event[1]})\n",
        "  \n",
        "  return questions"
      ]
    },
    {
      "cell_type": "markdown",
      "metadata": {
        "id": "bl18SbcKMYC9"
      },
      "source": [
        "Get NER and get date as well as preposition"
      ]
    },
    {
      "cell_type": "markdown",
      "metadata": {
        "id": "WSTwAsUkN41D"
      },
      "source": [
        "Construct question"
      ]
    },
    {
      "cell_type": "markdown",
      "metadata": {
        "id": "kgICuQANpsLL"
      },
      "source": [
        "Dependency Parsing, thank you Jesus!"
      ]
    },
    {
      "cell_type": "code",
      "execution_count": 3,
      "metadata": {
        "id": "jojFADqdpvCL"
      },
      "outputs": [],
      "source": [
        "def extract_events_regex(line):\n",
        "  matches = []\n",
        "  # capture thee digit and four digit years (1975) and ranges (1975-1976)\n",
        "  found = re.findall('In (\\d\\d\\d\\d?[/\\–]?\\d?\\d?\\d?\\d?),? ?([^\\\\.]*)', line)\n",
        "  try:\n",
        "    matches = matches + list(map(lambda f: (f[0] if len(f[0])>3 else \"0\"+f[0] ,f[0],f[1]),found))\n",
        "  except:\n",
        "   return []\n",
        "  return matches\n",
        "\n",
        "def dep_subtree(token, dep):\n",
        "  deps =[child.dep_ for child in token.children]\n",
        "  child=next(filter(lambda c: c.dep_==dep, token.children), None)\n",
        "  if child != None:\n",
        "    return \" \".join([c.text for c in child.subtree])\n",
        "  else:\n",
        "    return \"\"\n",
        "\n",
        "# to remove citations, e.g. \"[91]\" as this makes problems with spaCy\n",
        "p = re.compile(r'\\[\\d+\\]')\n",
        "\n",
        "def extract_events_spacy(line):\n",
        "  line=p.sub('', line)\n",
        "  events = []\n",
        "  doc = nlp(line)\n",
        "  for ent in filter(lambda e: e.label_=='DATE',doc.ents):\n",
        "    # print(ent.text)\n",
        "    try:\n",
        "      start, end = parse_range(ent.text)\n",
        "      # start = ent.text\n",
        "    except Exception as e:\n",
        "      # continue\n",
        "      # could not parse the dates, hence ignore it\n",
        "      try:\n",
        "        # start = parse(ent.text)\n",
        "        start = ent.text\n",
        "      except:\n",
        "        print('Could not => ', e)\n",
        "        continue\n",
        "\n",
        "    current = ent.root\n",
        "    while current.dep_ != \"ROOT\":\n",
        "      current = current.head\n",
        "    desc = \" \".join(filter(None,[\n",
        "                                 dep_subtree(current,\"nsubj\"),\n",
        "                                 dep_subtree(current,\"nsubjpass\"),\n",
        "                                 dep_subtree(current,\"auxpass\"),\n",
        "                                 dep_subtree(current,\"amod\"),\n",
        "                                 dep_subtree(current,\"det\"),\n",
        "                                 current.text, \n",
        "                                 dep_subtree(current,\"acl\"),\n",
        "                                 dep_subtree(current,\"dobj\"),\n",
        "                                 dep_subtree(current,\"attr\"),\n",
        "                                 dep_subtree(current,\"advmod\")]))\n",
        "    events = events + [(start,ent.text,desc)]\n",
        "  return events"
      ]
    },
    {
      "cell_type": "markdown",
      "metadata": {
        "id": "dR7bp12KpxUb"
      },
      "source": [
        "All together now!"
      ]
    },
    {
      "cell_type": "code",
      "execution_count": null,
      "metadata": {
        "id": "7BKwPvjvpzQ6"
      },
      "outputs": [],
      "source": [
        "# extract_all_events(summary,extract_events_spacy)\n",
        "\n",
        "# extract_events_spacy(\"The Protestant Reformation was the first successful challenge to the Catholic Church and began in 1521 - 1600 as Luther was outlawed at the Diet of Worms after his refusal to repent. \")\n"
      ]
    },
    {
      "cell_type": "markdown",
      "metadata": {
        "id": "cTDmIvEDlzQ1"
      },
      "source": [
        "Get templates! Thank you Jesus!"
      ]
    },
    {
      "cell_type": "code",
      "execution_count": null,
      "metadata": {
        "id": "IQaj5x6NUEK-"
      },
      "outputs": [],
      "source": [
        "# raw_text=\"\"\"Nigeria gained her independence in 1960.\"\"\"\n",
        "# raw_text = \"\"\"Frank Roffolo was killed on December 2019\"\"\"\n",
        "# response = requests.get('https://raw.githubusercontent.com/qualicen/timeline/master/history_of_germany.txt')\n",
        "\n",
        "# summary = wp.summary(\"Colonial Nigeria\")\n",
        "# summary = response.content\n",
        "\n",
        "# # Create NER text\n",
        "# text = NER(raw_text)\n",
        "\n",
        "# lem = WordNetLemmatizer()\n"
      ]
    },
    {
      "cell_type": "code",
      "execution_count": 4,
      "metadata": {
        "id": "_TPaeKgaTJIN"
      },
      "outputs": [],
      "source": [
        "from fastapi import FastAPI\n",
        "from fastapi.responses import HTMLResponse\n",
        "from fastapi.middleware.cors import CORSMiddleware\n",
        "from jinja2 import Template\n",
        "\n",
        "app = FastAPI()\n",
        "\n",
        "app.add_middleware(\n",
        "    CORSMiddleware,\n",
        "    allow_origins=[\"*\"],\n",
        "    allow_credentials=True,\n",
        "    allow_methods=[\"*\"],\n",
        "    allow_headers=[\"*\"],\n",
        ")\n",
        "\n",
        "@app.on_event(\"startup\")\n",
        "def load_model():\n",
        "    global nlp\n",
        "    nlp = spacy.load(\"en_core_web_sm\")\n",
        "\n",
        "@app.get('/')\n",
        "def index():\n",
        "    return {'message': 'This is the homepage of the API '}\n",
        "\n",
        "@app.get('/home', response_class=HTMLResponse)\n",
        "def home():\n",
        "    template_string = requests.get('https://raw.githubusercontent.com/LeanKhan/congenial-lamp/main/index.html').text\n",
        "\n",
        "    template = Template(template_string)\n",
        "\n",
        "    return template.render()\n",
        "\n",
        "\n",
        "@app.get('/questions', response_class=HTMLResponse)\n",
        "def questions(article: str):\n",
        "    template_string = requests.get('https://raw.githubusercontent.com/LeanKhan/congenial-lamp/main/questions.html').text\n",
        "\n",
        "    template = Template(template_string)\n",
        "\n",
        "    global wp_page\n",
        "\n",
        "    try:\n",
        "      wp_page = wp.page(article)\n",
        "    except:\n",
        "      # raise error\n",
        "      return {\"error\": True}\n",
        "    \n",
        "    # doc = nlp(summary)\n",
        "\n",
        "    qs = extract_all_events(wp_page.summary,extract_events_spacy)\n",
        "\n",
        "    return template.render(page=wp_page, questions=qs)\n",
        "\n",
        "\n",
        "@app.get('/api/questions')\n",
        "def get_questions(article: str):\n",
        "\n",
        "    global wp_page\n",
        "\n",
        "    try:\n",
        "      wp_page = wp.page(article)\n",
        "    except:\n",
        "      # raise error\n",
        "      return {\"error\": True}\n",
        "    \n",
        "    # doc = nlp(summary)\n",
        "\n",
        "    qs = extract_all_events(wp_page.summary,extract_events_spacy)\n",
        "\n",
        "    return {'success': True, 'questions': qs, 'links': wp_page.links, 'images': wp_page.images, 'title': wp_page.title, 'url': wp_page.url}\n",
        "\n",
        "\n"
      ]
    },
    {
      "cell_type": "markdown",
      "metadata": {
        "id": "xReRZOxdYCgQ"
      },
      "source": [
        "Run Server! Thank you Jesus!"
      ]
    },
    {
      "cell_type": "code",
      "execution_count": null,
      "metadata": {
        "colab": {
          "base_uri": "https://localhost:8080/"
        },
        "id": "tkflwj9yYCPN",
        "outputId": "36357e9f-82f7-4bb7-89eb-b96a18064250"
      },
      "outputs": [
        {
          "metadata": {
            "tags": null
          },
          "name": "stderr",
          "output_type": "stream",
          "text": [
            "INFO:     Started server process [266]\n",
            "INFO:     Waiting for application startup.\n"
          ]
        },
        {
          "metadata": {
            "tags": null
          },
          "name": "stdout",
          "output_type": "stream",
          "text": [
            "Public URL: NgrokTunnel: \"https://86d3-34-125-1-108.ngrok.io\" -> \"http://localhost:10000\"\n"
          ]
        },
        {
          "metadata": {
            "tags": null
          },
          "name": "stderr",
          "output_type": "stream",
          "text": [
            "INFO:     Application startup complete.\n",
            "INFO:     Uvicorn running on http://127.0.0.1:10000 (Press CTRL+C to quit)\n"
          ]
        },
        {
          "metadata": {
            "tags": null
          },
          "name": "stdout",
          "output_type": "stream",
          "text": [
            "INFO:     197.210.71.107:0 - \"GET / HTTP/1.1\" 200 OK\n",
            "INFO:     197.210.71.107:0 - \"GET /favicon.ico HTTP/1.1\" 404 Not Found\n",
            "INFO:     197.210.71.107:0 - \"GET /home HTTP/1.1\" 200 OK\n"
          ]
        },
        {
          "metadata": {
            "tags": null
          },
          "name": "stderr",
          "output_type": "stream",
          "text": [
            "Exception in callback BaseAsyncIOLoop._handle_events(18, 1)\n",
            "handle: <Handle BaseAsyncIOLoop._handle_events(18, 1)>\n",
            "Traceback (most recent call last):\n",
            "  File \"/usr/local/lib/python3.7/dist-packages/nest_asyncio.py\", line 203, in run\n",
            "    self._context.run(update_from_context, ctx)\n",
            "RuntimeError: cannot enter context: <Context object at 0x7fd529f54fa0> is already entered\n",
            "Exception in callback BaseAsyncIOLoop._handle_events(18, 1)\n",
            "handle: <Handle BaseAsyncIOLoop._handle_events(18, 1)>\n",
            "Traceback (most recent call last):\n",
            "  File \"/usr/local/lib/python3.7/dist-packages/nest_asyncio.py\", line 203, in run\n",
            "    self._context.run(update_from_context, ctx)\n",
            "RuntimeError: cannot enter context: <Context object at 0x7fd529f54fa0> is already entered\n"
          ]
        }
      ],
      "source": [
        "from colabcode import ColabCode\n",
        "\n",
        "server = ColabCode(port=10000, code=False)\n",
        "\n",
        "server.run_app(app=app)\n",
        "\n",
        "# This setup is to create a publicly available url to view the site. Unfortunately, you need an auth token to return HTML from\n",
        "# an NGROK tunnel nowadays... But you can still interact with the api using Postman or similar.\n",
        "\n",
        "# after server starts try entering this address in your address bar: {{the Public url}}/api/questions?article=Colonial%20Nigeria\n"
      ]
    }
  ],
  "metadata": {
    "colab": {
      "collapsed_sections": [],
      "name": "NG History Timeline API",
      "provenance": [],
      "include_colab_link": true
    },
    "kernelspec": {
      "display_name": "Python 3",
      "name": "python3"
    },
    "language_info": {
      "name": "python"
    }
  },
  "nbformat": 4,
  "nbformat_minor": 0
}